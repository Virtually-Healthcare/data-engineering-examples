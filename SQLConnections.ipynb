{
 "cells": [
  {
   "cell_type": "code",
   "id": "initial_id",
   "metadata": {
    "collapsed": true,
    "ExecuteTime": {
     "end_time": "2025-05-20T05:55:17.291453Z",
     "start_time": "2025-05-20T05:55:17.262422Z"
    }
   },
   "source": [
    "import iris\n",
    "import pandas as pd\n",
    "from sqlalchemy import create_engine,types\n",
    "\n",
    "\n",
    "host = \"localhost\"\n",
    "# this is the superserver port\n",
    "port = 32782\n",
    "namespace = \"FHIRSERVER\"\n",
    "user = \"_SYSTEM\"\n",
    "password = \"SYS\"\n",
    "\n",
    "conn = iris.connect(\n",
    "        hostname=host,\n",
    "        port=port,\n",
    "        namespace=namespace,\n",
    "        username=user,\n",
    "        password=password\n",
    ")\n",
    "\n",
    "# create a cursor\n",
    "cur = conn.cursor()"
   ],
   "outputs": [],
   "execution_count": 10
  },
  {
   "metadata": {
    "ExecuteTime": {
     "end_time": "2025-05-20T06:03:16.440188Z",
     "start_time": "2025-05-20T06:03:16.370144Z"
    }
   },
   "cell_type": "code",
   "source": [
    "# execute a query\n",
    "sql = \"\"\"\n",
    "      SELECT\n",
    "              Key, _id, code, dateStart\n",
    "      FROM HSFHIR_X0001_S.Observation\n",
    "      where patient = 'Patient/6' and code [ '38483-4'\n",
    "      \"\"\"\n",
    "cur.execute(sql)\n",
    "cur.fetchall()"
   ],
   "id": "9a39dfbe8b516740",
   "outputs": [
    {
     "data": {
      "text/plain": [
       "(('Observation/469',\n",
       "  '469',\n",
       "  '38483-4,http://loinc.org|38483-4,http://loinc.org|',\n",
       "  '2011-03-01T02:28:07Z'),\n",
       " ('Observation/512',\n",
       "  '512',\n",
       "  '38483-4,http://loinc.org|38483-4,http://loinc.org|',\n",
       "  '2012-02-29T02:28:07Z'),\n",
       " ('Observation/871',\n",
       "  '871',\n",
       "  '38483-4,http://loinc.org|38483-4,http://loinc.org|',\n",
       "  '2013-02-28T02:28:07Z'),\n",
       " ('Observation/924',\n",
       "  '924',\n",
       "  '38483-4,http://loinc.org|38483-4,http://loinc.org|',\n",
       "  '2014-02-28T02:28:07Z'),\n",
       " ('Observation/1606',\n",
       "  '1606',\n",
       "  '38483-4,http://loinc.org|38483-4,http://loinc.org|',\n",
       "  '2015-02-28T02:28:07Z'),\n",
       " ('Observation/1644',\n",
       "  '1644',\n",
       "  '38483-4,http://loinc.org|38483-4,http://loinc.org|',\n",
       "  '2016-02-28T02:28:07Z'),\n",
       " ('Observation/1681',\n",
       "  '1681',\n",
       "  '38483-4,http://loinc.org|38483-4,http://loinc.org|',\n",
       "  '2017-02-27T02:28:07Z'),\n",
       " ('Observation/1724',\n",
       "  '1724',\n",
       "  '38483-4,http://loinc.org|38483-4,http://loinc.org|',\n",
       "  '2018-02-27T02:28:07Z'),\n",
       " ('Observation/2161',\n",
       "  '2161',\n",
       "  '38483-4,http://loinc.org|38483-4,http://loinc.org|',\n",
       "  '2019-02-27T02:28:07Z'),\n",
       " ('Observation/2198',\n",
       "  '2198',\n",
       "  '38483-4,http://loinc.org|38483-4,http://loinc.org|',\n",
       "  '2020-02-27T02:28:07Z'))"
      ]
     },
     "execution_count": 13,
     "metadata": {},
     "output_type": "execute_result"
    }
   ],
   "execution_count": 13
  },
  {
   "metadata": {
    "ExecuteTime": {
     "end_time": "2025-05-20T06:04:50.351466Z",
     "start_time": "2025-05-20T06:04:50.289561Z"
    }
   },
   "cell_type": "code",
   "source": [
    "sql = \"\"\"\n",
    "      SELECT\n",
    "          ID\n",
    "           , Key\n",
    "           , ResourceString\n",
    "           , GetJSON(ResourceString,'valueQuantity') as valueQuantity\n",
    "           , GetProp(GetJSON(ResourceString,'valueQuantity'),'value') as value\n",
    "      FROM HSFHIR_X0001_R.Rsrc where Key = 'Observation/469'\n",
    "      \"\"\"\n",
    "cur.execute(sql)\n",
    "cur.fetchall()"
   ],
   "id": "eaaf1789f5e14b9e",
   "outputs": [
    {
     "data": {
      "text/plain": [
       "((469,\n",
       "  'Observation/469',\n",
       "  '{\"resourceType\":\"Observation\",\"id\":\"469\",\"status\":\"final\",\"category\":[{\"coding\":[{\"system\":\"http://terminology.hl7.org/CodeSystem/observation-category\",\"code\":\"laboratory\",\"display\":\"laboratory\"}]}],\"code\":{\"coding\":[{\"system\":\"http://loinc.org\",\"code\":\"38483-4\",\"display\":\"Creatinine\"}],\"text\":\"Creatinine\"},\"subject\":{\"reference\":\"Patient/6\"},\"encounter\":{\"reference\":\"Encounter/466\"},\"effectiveDateTime\":\"2011-03-01T02:28:07+00:00\",\"issued\":\"2011-03-01T02:28:07.303+00:00\",\"valueQuantity\":{\"value\":3.4027,\"unit\":\"mg/dL\",\"system\":\"http://unitsofmeasure.org\",\"code\":\"mg/dL\"},\"meta\":{\"lastUpdated\":\"2025-05-14T04:36:54Z\",\"versionId\":\"1\"}}',\n",
       "  '{\"value\":3.4027,\"unit\":\"mg/dL\",\"system\":\"http://unitsofmeasure.org\",\"code\":\"mg/dL\"}',\n",
       "  Decimal('3.4027')),)"
      ]
     },
     "execution_count": 14,
     "metadata": {},
     "output_type": "execute_result"
    }
   ],
   "execution_count": 14
  }
 ],
 "metadata": {
  "kernelspec": {
   "display_name": "Python 3",
   "language": "python",
   "name": "python3"
  },
  "language_info": {
   "codemirror_mode": {
    "name": "ipython",
    "version": 2
   },
   "file_extension": ".py",
   "mimetype": "text/x-python",
   "name": "python",
   "nbconvert_exporter": "python",
   "pygments_lexer": "ipython2",
   "version": "2.7.6"
  }
 },
 "nbformat": 4,
 "nbformat_minor": 5
}
