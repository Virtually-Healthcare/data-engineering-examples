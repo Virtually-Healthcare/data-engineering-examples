{
 "cells": [
  {
   "metadata": {},
   "cell_type": "markdown",
   "source": [
    "## Overview\n",
    "\n",
    "The EMISOpen consultation writeback is essentially a combination of several HL7 v2 Events.\n",
    "\n",
    "### ADT_A04 - Register a Patient (patient encounter)\n",
    "\n",
    "| HL7 v2.4 Segment                                                     | HL7 FHIR Resource                                                                                                    | EMISOpen                                        |\n",
    "|----------------------------------------------------------------------|----------------------------------------------------------------------------------------------------------------------|-------------------------------------------------|\n",
    "| [PID](https://hl7-definition.caristix.com/v2/HL7v2.4/Segments/PID)   | [Patient.identifier](https://virtually-healthcare.github.io/R4/StructureDefinition-Patient.html)                     | RegistrationType (extends IdentType)            |\n",
    "| [PV1](https://hl7-definition.caristix.com/v2/HL7v2.4/Segments/PV1})  | [Encounter](https://virtually-healthcare.github.io/R4/StructureDefinition-Encounter.html)                            | ConsultationType                                |\n",
    "| - [OBX](https://hl7-definition.caristix.com/v2/HL7v2.4/Segments/OBX) | [Observation](https://virtually-healthcare.github.io/R4/StructureDefinition-Observation.html)                        | EventType (both coded and uncoded)              |\n",
    "| OBX (type = ED)                                                      | [DocumentReference](https://virtually-healthcare.github.io/R4/StructureDefinition-DocumentReference.html) and Binary | Attachment                                      |\n",
    "| OBX (dependent on code)                                              | [Task](https://virtually-healthcare.github.io/R4/StructureDefinition-Task.html)                                      | DiaryType                                       |\n",
    "| OBX (dependent on code)                                              | [Immunization](https://virtually-healthcare.github.io/R4/StructureDefinition-Immunization.html)                      | EventType                                       |\n",
    "| - [AL1](https://hl7-definition.caristix.com/v2/HL7v2.4/Segments/AL1) | [AllergyIntolerance](https://virtually-healthcare.github.io/R4/StructureDefinition-AllergyIntolerance.html)                                                                                              | AllergyType                                     |\n",
    "| - [DG1](https://hl7-definition.caristix.com/v2/HL7v2.4/Segments/DG1) | [Condition](https://virtually-healthcare.github.io/R4/StructureDefinition-Condition.html)                            | EventType (with problem elements)               |\n",
    "| - [PR1](https://hl7-definition.caristix.com/v2/HL7v2.4/Segments/PR1) | [Procedure](https://virtually-healthcare.github.io/R4/StructureDefinition-Procedure.html)                            | EventType (can be inferred from SNOMED CT code) |\n",
    "\n",
    "### RDE_O11 - Pharmacy/treatment encoded order\n",
    "\n",
    "| HL7 v2.4 Segment                                                    | HL7 FHIR Resource                                                                                         | EMISOpen                             |\n",
    "|---------------------------------------------------------------------|-----------------------------------------------------------------------------------------------------------|--------------------------------------|\n",
    "| [PID](https://hl7-definition.caristix.com/v2/HL7v2.4/Segments/PID)  | [Patient.identifier](https://virtually-healthcare.github.io/R4/StructureDefinition-Patient.html)          | RegistrationType (extends IdentType) |\n",
    "| [PV1](https://hl7-definition.caristix.com/v2/HL7v2.4/Segments/PV1}) | [Encounter](https://virtually-healthcare.github.io/R4/StructureDefinition-Encounter.html)                 | ConsultationType                     |\n",
    "| [RXE](https://hl7-definition.caristix.com/v2/HL7v2.4/Segments/RXE)  | [MedicationRequest](https://virtually-healthcare.github.io/R4/StructureDefinition-MedicationRequest.html) | MedicationType                       |\n",
    "\n",
    "\n",
    "\n",
    "### Miscellaneous HL7 v2 Segments\n",
    "\n",
    "| HL7 v2.4 Segment                                                   | HL7 FHIR Resource                                                                                       | EMISOpen          |\n",
    "|--------------------------------------------------------------------|---------------------------------------------------------------------------------------------------------|-------------------|\n",
    "| [ORC](https://hl7-definition.caristix.com/v2/HL7v2.4/Segments/ORC) | [ServiceRequest](https://virtually-healthcare.github.io/R4/StructureDefinition-ServiceRequest.html)     | ReferralType      |\n",
    "| [OBR](https://hl7-definition.caristix.com/v2/HL7v2.4/Segments/ORC) | [DiagnosticReport](https://virtually-healthcare.github.io/R4/StructureDefinition-DiagnosticReport.html) | InvestigationType |\n",
    "\n",
    "This is not a 100% accurate map, but we can see HL7 v2, FHIR and EMIS are related. Similar maps can be created to other GP systems, and they are similar. One of the main reasons for this is UK GP systems were based on early HL7, so they also share similar models with many secondary care systems and laboratory systems.\n",
    "\n",
    "We will use FHIR as:\n",
    "\n",
    "1. We internally use FHIR as our [Canonical Data Model](https://www.enterpriseintegrationpatterns.com/patterns/messaging/CanonicalDataModel.html). The link provides a brief description of the decision behind this (the book has a more comprehensive description).\n",
    "2. The tooling to support FHIR models is quite extensive.\n",
    "\n",
    "## HL7 v2 vrs FHIR\n",
    "\n",
    "We don't view v2 and FHIR as competing. HL7 v2 is primarily a workflow interaction standard that supports asynchronous input/output. FHIR, on the other hand, is more focused on REST API interactions for querying data, which is something HL7 v2 doesn't support (well). As mentioned previously, we also use FHIR as the master data model as it can be converted to other standards such as HL7 v2 and XDS quite easily.\n",
    "\n",
    "\n",
    "\n"
   ],
   "id": "90f4a6f60dfe1d99"
  },
  {
   "metadata": {},
   "cell_type": "code",
   "outputs": [],
   "execution_count": null,
   "source": "",
   "id": "fe7f35c4b7a3a6f9"
  }
 ],
 "metadata": {
  "kernelspec": {
   "display_name": "Python 3",
   "language": "python",
   "name": "python3"
  },
  "language_info": {
   "codemirror_mode": {
    "name": "ipython",
    "version": 2
   },
   "file_extension": ".py",
   "mimetype": "text/x-python",
   "name": "python",
   "nbconvert_exporter": "python",
   "pygments_lexer": "ipython2",
   "version": "2.7.6"
  }
 },
 "nbformat": 4,
 "nbformat_minor": 5
}
