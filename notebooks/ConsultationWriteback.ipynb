{
 "cells": [
  {
   "metadata": {},
   "cell_type": "markdown",
   "source": [
    "## Overview\n",
    "\n",
    "The EMISOpen consultation writeback is essentially the same as HL7 v2 ORU Unsolicited Observation.\n",
    "\n",
    "| HL7 v2.5.1 Segment                                                      | HL7 FHIR Resource                                                                               | EMISOpen                             |\n",
    "|-------------------------------------------------------------------------|-------------------------------------------------------------------------------------------------|--------------------------------------|\n",
    "| [PID](https://hl7-definition.caristix.com/v2/HL7v2.5.1/Segments/PID)    | [Patient.identifier](https://virtually-healthcare.github.io/R4/StructureDefinition-Patient.html)             | RegistrationType (extends IdentType) |\n",
    "| [ORC](https://hl7-definition.caristix.com/v2/HL7v2.5.1/Segments/ORC)    | [DiagnosticReport](hhttps://virtually-healthcare.github.io/R4/StructureDefinition-DiagnosticReport.html)      | ConsultationListType                 |\n",
    "| - [OBR](https://hl7-definition.caristix.com/v2/HL7v2.5.1/Segments/OBR)  | [Observation-Panel](https://virtually-healthcare.github.io/R4/StructureDefinition-Observation-Panel.html)    |                                      |\n",
    "| -- [NTE](https://hl7-definition.caristix.com/v2/HL7v2.5.1/Segments/NTE) | [DiagnosticReport.note](https://virtually-healthcare.github.io/R4/StructureDefinition-DiagnosticReport.html) |                                      |\n",
    "| -- [OBX](https://hl7-definition.caristix.com/v2/HL7v2.5.1/Segments/OBX) | [Observation](https://virtually-healthcare.github.io/R4/StructureDefinition-Observation.html)           |                                      |"
   ],
   "id": "90f4a6f60dfe1d99"
  },
  {
   "metadata": {},
   "cell_type": "code",
   "outputs": [],
   "execution_count": null,
   "source": "",
   "id": "fe7f35c4b7a3a6f9"
  }
 ],
 "metadata": {
  "kernelspec": {
   "display_name": "Python 3",
   "language": "python",
   "name": "python3"
  },
  "language_info": {
   "codemirror_mode": {
    "name": "ipython",
    "version": 2
   },
   "file_extension": ".py",
   "mimetype": "text/x-python",
   "name": "python",
   "nbconvert_exporter": "python",
   "pygments_lexer": "ipython2",
   "version": "2.7.6"
  }
 },
 "nbformat": 4,
 "nbformat_minor": 5
}
