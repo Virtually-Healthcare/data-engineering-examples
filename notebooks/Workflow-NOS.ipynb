{
 "cells": [
  {
   "metadata": {
    "ExecuteTime": {
     "end_time": "2025-07-17T06:27:52.679368Z",
     "start_time": "2025-07-17T06:27:52.604718Z"
    }
   },
   "cell_type": "code",
   "source": [
    "import requests\n",
    "import json\n",
    "from datetime import datetime, timedelta\n",
    "\n",
    "def utcStamp():\n",
    "    ts = datetime.now()\n",
    "    return ts.strftime(\"%Y-%m-%dT%H:%M:%S+00:00\")\n",
    "\n",
    "\n",
    "\n",
    "cdrFHIRUrl = \"http://localhost:8180/CDR/FHIR/R4\"\n",
    "\n",
    "tasks = []\n",
    "# first is already present on emis, 2nd should fail\n",
    "\n",
    "\n",
    "# Get Tasks\n",
    "headersCDR = { \"Accept\": \"application/fhir+json\"}\n",
    "response = requests.get(cdrFHIRUrl + '/Task?status=in-progress&authored-on=gt2025-07-01&_sort=-authored-on&_count=100' ,headers=headersCDR)\n",
    "\n",
    "print(response.text)\n",
    "if response.status_code == 200:\n",
    "    print(\"======= Response from get tasks ========\")\n",
    "    if 'entry' in response.json():\n",
    "        print('entry')\n",
    "        for entry in response.json()['entry']:\n",
    "            tasks.append(entry['resource'])\n",
    "\n",
    "for taskJSON in tasks:\n",
    "    # Update Task\n",
    "    taskJSON['status'] = 'accepted'\n",
    "    if 'note' not in taskJSON:\n",
    "        taskJSON['note'] = []\n",
    "    taskJSON['note'].append({\n",
    "        \"time\": utcStamp(),\n",
    "        \"text\": \"Manual change of status to accepted\"\n",
    "    })\n",
    "    headersCDR = {\"Content-Type\": \"application/fhir+json\", \"Accept\": \"application/fhir+json\"}\n",
    "    response = requests.put(cdrFHIRUrl + '/Task/'+taskJSON['id'],json.dumps(taskJSON),headers=headersCDR)\n",
    "    print(response.text)"
   ],
   "id": "f0d50b966c916668",
   "outputs": [
    {
     "name": "stdout",
     "output_type": "stream",
     "text": [
      "{\n",
      "  \"resourceType\": \"Bundle\",\n",
      "  \"id\": \"75502188-ff88-4334-b5aa-14d43142d44b\",\n",
      "  \"meta\": {\n",
      "    \"lastUpdated\": \"2025-07-17T06:27:52.769Z\"\n",
      "  },\n",
      "  \"type\": \"searchset\",\n",
      "  \"total\": 0,\n",
      "  \"link\": [ {\n",
      "    \"relation\": \"self\",\n",
      "    \"url\": \"http://localhost:8180/CDR/FHIR/R4/Task?_count=100&_sort=-authored-on&authored-on=gt2025-07-01&status=in-progress\"\n",
      "  } ]\n",
      "}\n",
      "======= Response from get tasks ========\n"
     ]
    }
   ],
   "execution_count": 7
  },
  {
   "metadata": {},
   "cell_type": "code",
   "outputs": [],
   "execution_count": null,
   "source": [
    "from datetime import datetime\n",
    "\n",
    "print(datetime.fromtimestamp(datetime.now().timestamp()))"
   ],
   "id": "a208cdb8677da1"
  }
 ],
 "metadata": {
  "kernelspec": {
   "display_name": "Python 3",
   "language": "python",
   "name": "python3"
  },
  "language_info": {
   "codemirror_mode": {
    "name": "ipython",
    "version": 2
   },
   "file_extension": ".py",
   "mimetype": "text/x-python",
   "name": "python",
   "nbconvert_exporter": "python",
   "pygments_lexer": "ipython2",
   "version": "2.7.6"
  }
 },
 "nbformat": 4,
 "nbformat_minor": 5
}
