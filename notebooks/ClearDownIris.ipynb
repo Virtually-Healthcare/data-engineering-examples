{
 "cells": [
  {
   "cell_type": "code",
   "id": "initial_id",
   "metadata": {
    "collapsed": true,
    "ExecuteTime": {
     "end_time": "2025-06-18T17:01:27.044199Z",
     "start_time": "2025-06-18T17:01:22.777499Z"
    }
   },
   "source": [
    "import iris\n",
    "import pandas as pd\n",
    "\n",
    "\n",
    "host = \"localhost\"\n",
    "# this is the superserver port\n",
    "port = 32782\n",
    "namespace = \"FHIRSERVER\"\n",
    "user = \"_SYSTEM\"\n",
    "password = \"SYS\"\n",
    "\n",
    "conn = iris.connect(\n",
    "    hostname=host,\n",
    "    port=port,\n",
    "    namespace=namespace,\n",
    "    username=user,\n",
    "    password=password\n",
    ")\n",
    "\n",
    "# create a cursor\n",
    "cursor = conn.cursor()\n",
    "\n",
    "sql = \"\"\"\n",
    "select prac._id, prac.Key, GetFHIRPathOne(resource.ResourceString, 'Practitioner.identifier[0].value','Practitioner') As GMP from HSFHIR_X0001_S.Practitioner prac                                           join HSFHIR_X0001_R.Rsrc resource on  resource.ID = prac._id\n",
    "      where IsNull(prac.addressCountry,'') <> 'US'\n",
    "      \"\"\"\n",
    "\n",
    "cursor.execute(sql)\n",
    "data = cursor.fetchall()\n",
    "column_names = [desc[0] for desc in cursor.description]\n",
    "df = pd.DataFrame(data, columns=column_names)\n",
    "pd.set_option('future.no_silent_downcasting', True)\n",
    "\n",
    "df"
   ],
   "outputs": [
    {
     "data": {
      "text/plain": [
       "         _id                  Key       GMP\n",
       "0     759294  Practitioner/759294  G3607596\n",
       "1     759295  Practitioner/759295  G3607606\n",
       "2     759296  Practitioner/759296  G3607613\n",
       "3     759297  Practitioner/759297  G3607620\n",
       "4     759298  Practitioner/759298  G3607637\n",
       "...      ...                  ...       ...\n",
       "6429  765704  Practitioner/765704  G6322764\n",
       "6430  765705  Practitioner/765705  G6322771\n",
       "6431  765706  Practitioner/765706  G6322788\n",
       "6432  765707  Practitioner/765707  G6322795\n",
       "6433  765708  Practitioner/765708  G6322805\n",
       "\n",
       "[6434 rows x 3 columns]"
      ],
      "text/html": [
       "<div>\n",
       "<style scoped>\n",
       "    .dataframe tbody tr th:only-of-type {\n",
       "        vertical-align: middle;\n",
       "    }\n",
       "\n",
       "    .dataframe tbody tr th {\n",
       "        vertical-align: top;\n",
       "    }\n",
       "\n",
       "    .dataframe thead th {\n",
       "        text-align: right;\n",
       "    }\n",
       "</style>\n",
       "<table border=\"1\" class=\"dataframe\">\n",
       "  <thead>\n",
       "    <tr style=\"text-align: right;\">\n",
       "      <th></th>\n",
       "      <th>_id</th>\n",
       "      <th>Key</th>\n",
       "      <th>GMP</th>\n",
       "    </tr>\n",
       "  </thead>\n",
       "  <tbody>\n",
       "    <tr>\n",
       "      <th>0</th>\n",
       "      <td>759294</td>\n",
       "      <td>Practitioner/759294</td>\n",
       "      <td>G3607596</td>\n",
       "    </tr>\n",
       "    <tr>\n",
       "      <th>1</th>\n",
       "      <td>759295</td>\n",
       "      <td>Practitioner/759295</td>\n",
       "      <td>G3607606</td>\n",
       "    </tr>\n",
       "    <tr>\n",
       "      <th>2</th>\n",
       "      <td>759296</td>\n",
       "      <td>Practitioner/759296</td>\n",
       "      <td>G3607613</td>\n",
       "    </tr>\n",
       "    <tr>\n",
       "      <th>3</th>\n",
       "      <td>759297</td>\n",
       "      <td>Practitioner/759297</td>\n",
       "      <td>G3607620</td>\n",
       "    </tr>\n",
       "    <tr>\n",
       "      <th>4</th>\n",
       "      <td>759298</td>\n",
       "      <td>Practitioner/759298</td>\n",
       "      <td>G3607637</td>\n",
       "    </tr>\n",
       "    <tr>\n",
       "      <th>...</th>\n",
       "      <td>...</td>\n",
       "      <td>...</td>\n",
       "      <td>...</td>\n",
       "    </tr>\n",
       "    <tr>\n",
       "      <th>6429</th>\n",
       "      <td>765704</td>\n",
       "      <td>Practitioner/765704</td>\n",
       "      <td>G6322764</td>\n",
       "    </tr>\n",
       "    <tr>\n",
       "      <th>6430</th>\n",
       "      <td>765705</td>\n",
       "      <td>Practitioner/765705</td>\n",
       "      <td>G6322771</td>\n",
       "    </tr>\n",
       "    <tr>\n",
       "      <th>6431</th>\n",
       "      <td>765706</td>\n",
       "      <td>Practitioner/765706</td>\n",
       "      <td>G6322788</td>\n",
       "    </tr>\n",
       "    <tr>\n",
       "      <th>6432</th>\n",
       "      <td>765707</td>\n",
       "      <td>Practitioner/765707</td>\n",
       "      <td>G6322795</td>\n",
       "    </tr>\n",
       "    <tr>\n",
       "      <th>6433</th>\n",
       "      <td>765708</td>\n",
       "      <td>Practitioner/765708</td>\n",
       "      <td>G6322805</td>\n",
       "    </tr>\n",
       "  </tbody>\n",
       "</table>\n",
       "<p>6434 rows × 3 columns</p>\n",
       "</div>"
      ]
     },
     "execution_count": 4,
     "metadata": {},
     "output_type": "execute_result"
    }
   ],
   "execution_count": 4
  },
  {
   "metadata": {
    "ExecuteTime": {
     "end_time": "2025-06-18T17:02:30.386140Z",
     "start_time": "2025-06-18T17:01:27.153099Z"
    }
   },
   "cell_type": "code",
   "source": [
    "import requests\n",
    "\n",
    "headers = {\"Content-Type\": \"application/fhir+json\"}\n",
    "fhirurl = \"http://localhost:32783/fhir/r4\"\n",
    "\n",
    "for gpId in range(0, len(df)):\n",
    "    id = df.loc[gpId,'_id']\n",
    "    r = requests.delete(fhirurl+'/Practitioner/'+id, headers=headers)\n"
   ],
   "id": "687329c2517b1f6",
   "outputs": [],
   "execution_count": 5
  },
  {
   "metadata": {
    "ExecuteTime": {
     "end_time": "2025-06-18T17:02:30.540285Z",
     "start_time": "2025-06-18T17:02:30.535342Z"
    }
   },
   "cell_type": "code",
   "source": "",
   "id": "4dc388861cfd021",
   "outputs": [],
   "execution_count": null
  }
 ],
 "metadata": {
  "kernelspec": {
   "display_name": "Python 3",
   "language": "python",
   "name": "python3"
  },
  "language_info": {
   "codemirror_mode": {
    "name": "ipython",
    "version": 2
   },
   "file_extension": ".py",
   "mimetype": "text/x-python",
   "name": "python",
   "nbconvert_exporter": "python",
   "pygments_lexer": "ipython2",
   "version": "2.7.6"
  }
 },
 "nbformat": 4,
 "nbformat_minor": 5
}
